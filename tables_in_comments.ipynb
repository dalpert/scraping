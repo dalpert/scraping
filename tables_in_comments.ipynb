{
 "cells": [
  {
   "cell_type": "code",
   "execution_count": 1,
   "metadata": {},
   "outputs": [],
   "source": [
    "# Libraries\n",
    "from bs4 import BeautifulSoup, Comment\n",
    "import numpy as np\n",
    "import pandas as pd\n",
    "import urllib.request\n",
    "import requests\n",
    "from collections import Counter\n",
    "import logging\n",
    "import math as m\n",
    "import datetime"
   ]
  },
  {
   "cell_type": "code",
   "execution_count": 2,
   "metadata": {},
   "outputs": [],
   "source": [
    "link = 'https://www.baseball-reference.com/leagues/MLB/2018-standings.shtml'\n",
    "with urllib.request.urlopen(link) as url:\n",
    "    page = url.read()\n",
    "soup = BeautifulSoup(page, \"html.parser\")"
   ]
  },
  {
   "cell_type": "code",
   "execution_count": 5,
   "metadata": {},
   "outputs": [],
   "source": [
    "comments=soup.find_all(string=lambda text:isinstance(text,Comment))\n",
    "for comment in comments:\n",
    "    comment=BeautifulSoup(str(comment), 'html.parser')\n",
    "    table_expanded_standings = comment.find('table', id='expanded_standings_overall') #search as ordinary tag\n",
    "    if table_expanded_standings:\n",
    "        break"
   ]
  },
  {
   "cell_type": "code",
   "execution_count": 8,
   "metadata": {},
   "outputs": [
    {
     "data": {
      "text/plain": [
       "<tr><th class=\"right\" data-stat=\"ranker\" scope=\"row\"><strong>1</strong></th><td class=\"left\" data-stat=\"team_ID\"><strong><a href=\"/teams/BOS/2018.shtml\" title=\"Boston Red Sox\">BOS</a></strong></td><td class=\"left\" data-stat=\"lg_ID\"><strong>AL</strong></td><td class=\"right\" data-stat=\"G\"><strong>162</strong></td><td class=\"right\" data-stat=\"W\"><strong>108</strong></td><td class=\"right\" data-stat=\"L\"><strong>54</strong></td><td class=\"right\" data-stat=\"win_loss_perc\"><strong>.667</strong></td><td class=\"right\" data-stat=\"R\"><strong>5.4</strong></td><td class=\"right\" data-stat=\"RA\"><strong>4.0</strong></td><td class=\"right\" data-stat=\"run_diff\"><strong>1.4</strong></td><td class=\"right\" data-stat=\"strength_of_schedule\"><strong>-0.2</strong></td><td class=\"right\" data-stat=\"simple_rating_system\"><strong>1.2</strong></td><td class=\"right\" csk=\"0.635802469135803\" data-stat=\"record_pythag\"><strong>103-59</strong></td><td class=\"right\" data-stat=\"luck_pythag\"><strong>5</strong></td><td class=\"right\" csk=\"0.684210526315789\" data-stat=\"record_vs_east\"><strong>52-24</strong></td><td class=\"right\" csk=\"0.575757575757576\" data-stat=\"record_vs_central\"><strong>19-14</strong></td><td class=\"right\" csk=\"0.636363636363636\" data-stat=\"record_vs_west\"><strong>21-12</strong></td><td class=\"right\" csk=\"0.8\" data-stat=\"record_interleague\"><strong>16-4</strong></td><td class=\"right\" csk=\"0.703703703703704\" data-stat=\"record_home\"><strong>57-24</strong></td><td class=\"right\" csk=\"0.62962962962963\" data-stat=\"record_road\"><strong>51-30</strong></td><td class=\"right\" csk=\"0.615384615384615\" data-stat=\"record_xinn\"><strong>8-5</strong></td><td class=\"right\" csk=\"0.641025641025641\" data-stat=\"record_one_run\"><strong>25-14</strong></td><td class=\"right\" csk=\"0.696\" data-stat=\"record_vs_rhp\"><strong>87-38</strong></td><td class=\"right\" csk=\"0.567567567567568\" data-stat=\"record_vs_lhp\"><strong>21-16</strong></td><td class=\"right\" csk=\"0.554054054054054\" data-stat=\"record_vs_over_500\"><strong>41-33</strong></td><td class=\"right\" csk=\"0.761363636363636\" data-stat=\"record_vs_under_500\"><strong>67-21</strong></td></tr>"
      ]
     },
     "execution_count": 8,
     "metadata": {},
     "output_type": "execute_result"
    }
   ],
   "source": [
    "table_expanded_standings.find_all('tr')[1]"
   ]
  },
  {
   "cell_type": "code",
   "execution_count": null,
   "metadata": {},
   "outputs": [],
   "source": []
  }
 ],
 "metadata": {
  "kernelspec": {
   "display_name": "Python 3",
   "language": "python",
   "name": "python3"
  },
  "language_info": {
   "codemirror_mode": {
    "name": "ipython",
    "version": 3
   },
   "file_extension": ".py",
   "mimetype": "text/x-python",
   "name": "python",
   "nbconvert_exporter": "python",
   "pygments_lexer": "ipython3",
   "version": "3.7.2"
  }
 },
 "nbformat": 4,
 "nbformat_minor": 2
}
